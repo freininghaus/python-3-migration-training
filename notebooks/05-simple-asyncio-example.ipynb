{
 "cells": [
  {
   "cell_type": "markdown",
   "metadata": {},
   "source": [
    "# Simple example for concurrent processing of coroutines with `asyncio`"
   ]
  },
  {
   "cell_type": "code",
   "execution_count": 1,
   "metadata": {},
   "outputs": [],
   "source": [
    "import asyncio\n",
    "import datetime\n",
    "import time\n",
    "import contextlib"
   ]
  },
  {
   "cell_type": "code",
   "execution_count": 2,
   "metadata": {},
   "outputs": [],
   "source": [
    "def now():\n",
    "    return datetime.datetime.now().time()"
   ]
  },
  {
   "cell_type": "markdown",
   "metadata": {},
   "source": [
    "## Define a simple context manager for measuring the execution time of statements inside its `with` block"
   ]
  },
  {
   "cell_type": "code",
   "execution_count": 3,
   "metadata": {},
   "outputs": [],
   "source": [
    "@contextlib.contextmanager\n",
    "def measure_time():\n",
    "    start = time.perf_counter()\n",
    "    yield\n",
    "    end = time.perf_counter()\n",
    "    print(f\"Needed {end - start} seconds.\")"
   ]
  },
  {
   "cell_type": "markdown",
   "metadata": {},
   "source": [
    "## Create a simple coroutine that waits for some time before returning its result\n",
    "Note that this coroutine simply sleeps and returns control to the event loop. Instead of `await`ing `asyncio.sleep(...)`, one could `await` any kind of I/O operation:\n",
    "* HTTP requests and other network activity\n",
    "* file system operations\n",
    "* executing database queries\n",
    "* ..."
   ]
  },
  {
   "cell_type": "code",
   "execution_count": 4,
   "metadata": {},
   "outputs": [],
   "source": [
    "async def wait(seconds):\n",
    "    print(f\"{now()} begin {seconds}\")\n",
    "    await asyncio.sleep(seconds)\n",
    "    print(f\"{now()} end   {seconds}\")\n",
    "    return seconds"
   ]
  },
  {
   "cell_type": "markdown",
   "metadata": {},
   "source": [
    "## Multiple sequential `await` statements\n",
    "Note that the runtime is the sum of the runtimes of the coroutines."
   ]
  },
  {
   "cell_type": "code",
   "execution_count": 5,
   "metadata": {
    "scrolled": true
   },
   "outputs": [
    {
     "name": "stdout",
     "output_type": "stream",
     "text": [
      "11:14:15.358519 begin 0.5\n",
      "11:14:15.859767 end   0.5\n",
      "0.5\n",
      "11:14:15.859944 begin 0.8\n",
      "11:14:16.661000 end   0.8\n",
      "0.8\n",
      "11:14:16.661161 begin 0.3\n",
      "11:14:16.961748 end   0.3\n",
      "0.3\n",
      "Needed 1.6034360009944066 seconds.\n"
     ]
    }
   ],
   "source": [
    "with measure_time():\n",
    "    print(await wait(0.5))\n",
    "    print(await wait(0.8))\n",
    "    print(await wait(0.3))    "
   ]
  },
  {
   "cell_type": "markdown",
   "metadata": {},
   "source": [
    "## Parallelization with `asyncio.gather`\n",
    "Two coroutines can be sent to the event loop in parallel, such that the longest running coroutine determines the total runtime.\n",
    "\n",
    "While one coroutine is `await`ing results, other coroutines can be scheduled by the event loop and do useful work!"
   ]
  },
  {
   "cell_type": "code",
   "execution_count": 6,
   "metadata": {},
   "outputs": [
    {
     "name": "stdout",
     "output_type": "stream",
     "text": [
      "11:14:16.974729 begin 0.5\n",
      "11:14:16.974829 begin 0.8\n",
      "11:14:16.974869 begin 0.3\n",
      "11:14:17.275403 end   0.3\n",
      "11:14:17.475998 end   0.5\n",
      "11:14:17.775543 end   0.8\n",
      "[0.5, 0.8, 0.3]\n",
      "Needed 0.8023969390196726 seconds.\n"
     ]
    }
   ],
   "source": [
    "with measure_time():\n",
    "    print(await asyncio.gather(wait(0.5), wait(0.8), wait(0.3)))"
   ]
  }
 ],
 "metadata": {
  "kernelspec": {
   "display_name": "Python 3",
   "language": "python",
   "name": "python3"
  },
  "language_info": {
   "codemirror_mode": {
    "name": "ipython",
    "version": 3
   },
   "file_extension": ".py",
   "mimetype": "text/x-python",
   "name": "python",
   "nbconvert_exporter": "python",
   "pygments_lexer": "ipython3",
   "version": "3.7.3"
  }
 },
 "nbformat": 4,
 "nbformat_minor": 2
}
