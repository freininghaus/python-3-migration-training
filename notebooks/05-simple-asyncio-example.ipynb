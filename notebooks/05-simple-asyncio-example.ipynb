{
 "cells": [
  {
   "cell_type": "markdown",
   "metadata": {},
   "source": [
    "# Simple example for concurrent processing of coroutines with `asyncio`"
   ]
  },
  {
   "cell_type": "code",
   "execution_count": 1,
   "metadata": {},
   "outputs": [],
   "source": [
    "import asyncio\n",
    "import datetime\n",
    "import time\n",
    "import contextlib"
   ]
  },
  {
   "cell_type": "code",
   "execution_count": 2,
   "metadata": {},
   "outputs": [],
   "source": [
    "def now():\n",
    "    return datetime.datetime.now().time()"
   ]
  },
  {
   "cell_type": "markdown",
   "metadata": {},
   "source": [
    "## Define a simple context manager for measuring the execution time of statements inside its `with` block"
   ]
  },
  {
   "cell_type": "code",
   "execution_count": 3,
   "metadata": {},
   "outputs": [],
   "source": [
    "@contextlib.contextmanager\n",
    "def measure_time():\n",
    "    start = time.perf_counter()\n",
    "    yield\n",
    "    end = time.perf_counter()\n",
    "    print(f\"Needed {end - start} seconds.\")"
   ]
  },
  {
   "cell_type": "markdown",
   "metadata": {},
   "source": [
    "## Create a simple coroutine that waits for some time before returning its result\n",
    "Note that this coroutine simply sleeps and returns control to the event loop. Instead of `await`ing `asyncio.sleep(...)`, one could `await` any kind of I/O operation:\n",
    "* HTTP requests and other network activity\n",
    "* file system operations\n",
    "* executing database queries\n",
    "* ..."
   ]
  },
  {
   "cell_type": "code",
   "execution_count": 4,
   "metadata": {},
   "outputs": [],
   "source": [
    "async def wait(seconds):\n",
    "    print(f\"{now()} begin {seconds}\")\n",
    "    await asyncio.sleep(seconds)\n",
    "    print(f\"{now()} end   {seconds}\")\n",
    "    return seconds"
   ]
  },
  {
   "cell_type": "markdown",
   "metadata": {},
   "source": [
    "## Multiple sequential `await` statements\n",
    "Note that the runtime is the sum of the runtimes of the coroutines."
   ]
  },
  {
   "cell_type": "code",
   "execution_count": 5,
   "metadata": {
    "scrolled": true
   },
   "outputs": [
    {
     "name": "stdout",
     "output_type": "stream",
     "text": [
      "16:00:09.743974 begin 0.5\n",
      "16:00:10.244732 end   0.5\n",
      "0.5\n",
      "16:00:10.244892 begin 0.8\n",
      "16:00:11.045921 end   0.8\n",
      "0.8\n",
      "16:00:11.046092 begin 0.3\n",
      "16:00:11.346967 end   0.3\n",
      "0.3\n",
      "Needed 1.603213521069847 seconds.\n"
     ]
    }
   ],
   "source": [
    "with measure_time():\n",
    "    print(await wait(0.5))\n",
    "    print(await wait(0.8))\n",
    "    print(await wait(0.3))    "
   ]
  },
  {
   "cell_type": "markdown",
   "metadata": {},
   "source": [
    "## Parallelization with `asyncio.gather`\n",
    "Two coroutines can be sent to the event loop in parallel, such that the longest running coroutine determines the total runtime.\n",
    "\n",
    "While one coroutine is `await`ing results, other coroutines can be scheduled by the event loop and do useful work!"
   ]
  },
  {
   "cell_type": "code",
   "execution_count": 6,
   "metadata": {},
   "outputs": [
    {
     "name": "stdout",
     "output_type": "stream",
     "text": [
      "16:00:11.358326 begin 0.5\n",
      "16:00:11.358462 begin 0.8\n",
      "16:00:11.358539 begin 0.3\n",
      "16:00:11.659095 end   0.3\n",
      "16:00:11.859722 end   0.5\n",
      "16:00:12.159352 end   0.8\n",
      "[0.5, 0.8, 0.3]\n",
      "Needed 0.8013974509667605 seconds.\n"
     ]
    }
   ],
   "source": [
    "with measure_time():\n",
    "    print(await asyncio.gather(wait(0.5), wait(0.8), wait(0.3)))"
   ]
  },
  {
   "cell_type": "markdown",
   "metadata": {},
   "source": [
    "## Comparison with synchronous waiting\n",
    "The final result is the same if we use synchronous waiting, i.e., `time.sleep(...)` instead of `asyncio.sleep(...)`. However, the event loop is blocked while `time.sleep()` runs, such that `asyncio.gather(...)` does not result in a concurrent execution of the coroutines, and the total runtime is the sum of the inividual coroutine runtimes:"
   ]
  },
  {
   "cell_type": "code",
   "execution_count": 8,
   "metadata": {},
   "outputs": [
    {
     "name": "stdout",
     "output_type": "stream",
     "text": [
      "16:00:29.676472 begin 0.5\n",
      "16:00:30.177207 end   0.5\n",
      "16:00:30.177419 begin 0.8\n",
      "16:00:30.978312 end   0.8\n",
      "16:00:30.978583 begin 0.3\n",
      "16:00:31.278985 end   0.3\n",
      "[0.5, 0.8, 0.3]\n",
      "Needed 1.6029145860811695 seconds.\n"
     ]
    }
   ],
   "source": [
    "async def wait_sync(seconds):\n",
    "    print(f\"{now()} begin {seconds}\")\n",
    "    time.sleep(seconds)\n",
    "    print(f\"{now()} end   {seconds}\")\n",
    "    return seconds\n",
    "\n",
    "with measure_time():\n",
    "    print(await asyncio.gather(wait_sync(0.5), wait_sync(0.8), wait_sync(0.3)))"
   ]
  },
  {
   "cell_type": "markdown",
   "metadata": {},
   "source": [
    "## Generating the coroutines which are passed to `asyncio.gather`\n",
    "It is often inconvenient to pass each individual coroutine to `asyncio.gather` explicitly. The coroutines can be created by a generator expression like this:"
   ]
  },
  {
   "cell_type": "code",
   "execution_count": 9,
   "metadata": {},
   "outputs": [
    {
     "name": "stdout",
     "output_type": "stream",
     "text": [
      "16:02:24.384242 begin 0.5\n",
      "16:02:24.384361 begin 0.8\n",
      "16:02:24.384414 begin 0.3\n",
      "16:02:24.684938 end   0.3\n",
      "16:02:24.885527 end   0.5\n",
      "16:02:25.185712 end   0.8\n",
      "[0.5, 0.8, 0.3]\n",
      "Needed 0.8017592410324141 seconds.\n"
     ]
    }
   ],
   "source": [
    "with measure_time():\n",
    "    print(await asyncio.gather(*(wait(x) for x in (0.5, 0.8, 0.3))))"
   ]
  },
  {
   "cell_type": "code",
   "execution_count": null,
   "metadata": {},
   "outputs": [],
   "source": []
  }
 ],
 "metadata": {
  "kernelspec": {
   "display_name": "Python 3",
   "language": "python",
   "name": "python3"
  },
  "language_info": {
   "codemirror_mode": {
    "name": "ipython",
    "version": 3
   },
   "file_extension": ".py",
   "mimetype": "text/x-python",
   "name": "python",
   "nbconvert_exporter": "python",
   "pygments_lexer": "ipython3",
   "version": "3.7.3"
  }
 },
 "nbformat": 4,
 "nbformat_minor": 2
}
