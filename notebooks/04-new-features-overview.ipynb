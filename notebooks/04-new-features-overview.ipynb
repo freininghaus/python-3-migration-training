{
 "cells": [
  {
   "cell_type": "markdown",
   "metadata": {},
   "source": [
    "# Overview of some new Python 3 features\n",
    "This notebook shows some new Python 3 features. Some of them have been backported to Python 2 in the mean time, but you might not know them yet :-)"
   ]
  },
  {
   "cell_type": "markdown",
   "metadata": {},
   "source": [
    "## Advanced string formatting (backported to Python 2)"
   ]
  },
  {
   "cell_type": "code",
   "execution_count": 1,
   "metadata": {},
   "outputs": [
    {
     "name": "stdout",
     "output_type": "stream",
     "text": [
      "Hello world!\n"
     ]
    }
   ],
   "source": [
    "print('Hello {}!'.format('world'))"
   ]
  },
  {
   "cell_type": "code",
   "execution_count": 2,
   "metadata": {},
   "outputs": [
    {
     "name": "stdout",
     "output_type": "stream",
     "text": [
      "Hello John Doe!\n"
     ]
    }
   ],
   "source": [
    "values = {'first_name': 'John', 'last_name': 'Doe'}\n",
    "print('Hello {first_name} {last_name}!'.format(**values))"
   ]
  },
  {
   "cell_type": "code",
   "execution_count": 3,
   "metadata": {},
   "outputs": [
    {
     "name": "stdout",
     "output_type": "stream",
     "text": [
      "2^0  =    1 (in hex: 2^0 =   1)\n",
      "2^1  =    2 (in hex: 2^1 =   2)\n",
      "2^2  =    4 (in hex: 2^2 =   4)\n",
      "2^3  =    8 (in hex: 2^3 =   8)\n",
      "2^4  =   16 (in hex: 2^4 =  10)\n",
      "2^5  =   32 (in hex: 2^5 =  20)\n",
      "2^6  =   64 (in hex: 2^6 =  40)\n",
      "2^7  =  128 (in hex: 2^7 =  80)\n",
      "2^8  =  256 (in hex: 2^8 = 100)\n",
      "2^9  =  512 (in hex: 2^9 = 200)\n",
      "2^10 = 1024 (in hex: 2^a = 400)\n"
     ]
    }
   ],
   "source": [
    "for n in range(11):\n",
    "    print('2^{0:<2} = {1:4} (in hex: 2^{0:<x} = {1:3x})'.format(n, 2**n))"
   ]
  },
  {
   "cell_type": "markdown",
   "metadata": {},
   "source": [
    "## Stuff that you can do with `*` "
   ]
  },
  {
   "cell_type": "code",
   "execution_count": 4,
   "metadata": {},
   "outputs": [
    {
     "name": "stdout",
     "output_type": "stream",
     "text": [
      "f called with args=(1, 2), kwargs={'a': 3, 'b': 4}\n"
     ]
    }
   ],
   "source": [
    "# Known from Python 2: handling positional and keyword function arguments\n",
    "def f(*args, **kwargs):\n",
    "    print(\"f called with args={}, kwargs={}\".format(args, kwargs))\n",
    "\n",
    "def g(*args, **kwargs):\n",
    "    f(*args, **kwargs)\n",
    "\n",
    "g(1, 2, a=3, b=4)"
   ]
  },
  {
   "cell_type": "code",
   "execution_count": 5,
   "metadata": {},
   "outputs": [
    {
     "name": "stdout",
     "output_type": "stream",
     "text": [
      "a = 0, b = 1, rest = [2, 3, 4]\n"
     ]
    }
   ],
   "source": [
    "# New: extended iterable unpacking\n",
    "a, b, *rest = range(5)\n",
    "print(\"a = {}, b = {}, rest = {}\".format(a, b, rest))"
   ]
  },
  {
   "cell_type": "code",
   "execution_count": 6,
   "metadata": {},
   "outputs": [
    {
     "name": "stdout",
     "output_type": "stream",
     "text": [
      "1 2 3\n"
     ]
    }
   ],
   "source": [
    "# New: syntax for keyword-only arguments\n",
    "def f(a, b, *, c):\n",
    "    print(a, b, c)\n",
    "\n",
    "f(1, 2, c=3)\n",
    "#f(1, 2, 3) # does not work because c is a keyword-only argument"
   ]
  },
  {
   "cell_type": "code",
   "execution_count": 7,
   "metadata": {},
   "outputs": [
    {
     "name": "stdout",
     "output_type": "stream",
     "text": [
      "1 2 3 4 5 6\n"
     ]
    }
   ],
   "source": [
    "# New: multiple unpackings in function calls\n",
    "args1 = (1, 2)\n",
    "args2 = (3, 4)\n",
    "kwargs1 = {'e': 5}\n",
    "kwargs2 = {'f': 6}\n",
    "\n",
    "def f(a, b, c, d, e, f):\n",
    "    print(a, b, c, d, e, f)\n",
    "\n",
    "f(*args1, *args2, **kwargs1, **kwargs2)"
   ]
  },
  {
   "cell_type": "code",
   "execution_count": 8,
   "metadata": {},
   "outputs": [
    {
     "name": "stdout",
     "output_type": "stream",
     "text": [
      "<class 'tuple'> (0, 1, 2, 3, 4)\n",
      "<class 'list'> [0, 1, 2, 3, 4]\n"
     ]
    }
   ],
   "source": [
    "# New: unpackings in other contexts\n",
    "t = *range(4), 4\n",
    "print(type(t), t)\n",
    "l = [*range(4), 4]\n",
    "print(type(l), l)"
   ]
  },
  {
   "cell_type": "markdown",
   "metadata": {},
   "source": [
    "## Sets and dictionaries"
   ]
  },
  {
   "cell_type": "code",
   "execution_count": 9,
   "metadata": {},
   "outputs": [
    {
     "name": "stdout",
     "output_type": "stream",
     "text": [
      "<class 'set'> {1, 2, 3, 5, 8}\n"
     ]
    }
   ],
   "source": [
    "# Set literals (backported to Python 2)\n",
    "s = {1, 2, 3, 5, 8}\n",
    "print(type(s), s)"
   ]
  },
  {
   "cell_type": "code",
   "execution_count": 10,
   "metadata": {},
   "outputs": [
    {
     "name": "stdout",
     "output_type": "stream",
     "text": [
      "d = {0: 0, 1: 2, 2: 4, 3: 6, 4: 8}\n",
      "s = {0, 2, 4}\n"
     ]
    }
   ],
   "source": [
    "# Dict and set comprehensions (backported to Python 2)\n",
    "d = {x: 2*x for x in range(5)}\n",
    "s = {2*x for x in range(3)}\n",
    "print(\"d =\", d)\n",
    "print(\"s =\", s)"
   ]
  },
  {
   "cell_type": "code",
   "execution_count": 11,
   "metadata": {},
   "outputs": [
    {
     "data": {
      "text/plain": [
       "{'a': 1, 'b': 2, 'c': 3, 'd': 4}"
      ]
     },
     "execution_count": 11,
     "metadata": {},
     "output_type": "execute_result"
    }
   ],
   "source": [
    "# Merging dictionaries\n",
    "d1 = {'a': 1, 'b': 2}\n",
    "d2 = {'c': 3, 'd': 4}\n",
    "{**d1, **d2}"
   ]
  },
  {
   "cell_type": "markdown",
   "metadata": {},
   "source": [
    "## Unicode: clear separation between Unicode objects (`str`) and `bytes`"
   ]
  },
  {
   "cell_type": "code",
   "execution_count": 12,
   "metadata": {},
   "outputs": [
    {
     "name": "stdout",
     "output_type": "stream",
     "text": [
      "<class 'bytes'> <class 'str'> False\n"
     ]
    }
   ],
   "source": [
    "b = b'abc'\n",
    "s = 'abc'\n",
    "print(type(b), type(s), b == s)"
   ]
  },
  {
   "cell_type": "code",
   "execution_count": 13,
   "metadata": {},
   "outputs": [
    {
     "name": "stdout",
     "output_type": "stream",
     "text": [
      "Viele Grüße!\n",
      "b'Viele Gr\\xc3\\xbc\\xc3\\x9fe!'\n",
      "b'Viele Gr\\xc3\\xbc\\xc3\\x9fe!'\n",
      "b'\\xff\\xfeV\\x00i\\x00e\\x00l\\x00e\\x00 \\x00G\\x00r\\x00\\xfc\\x00\\xdf\\x00e\\x00!\\x00'\n",
      "b'Viele Gr\\xfc\\xdfe!'\n"
     ]
    }
   ],
   "source": [
    "s = 'Viele Grüße!'\n",
    "print(s)\n",
    "print(s.encode('utf-8'))\n",
    "print(s.encode()) # utf-8 is default\n",
    "print(s.encode('utf-16'))\n",
    "print(s.encode('iso-8859-1'))"
   ]
  },
  {
   "cell_type": "markdown",
   "metadata": {},
   "source": [
    "## Easy caching of function results\n",
    "Note that the Fibonacci function is only used for illustration purposes here. Calculating it iteratively is faster and more Pythonic."
   ]
  },
  {
   "cell_type": "code",
   "execution_count": 14,
   "metadata": {},
   "outputs": [
    {
     "name": "stdout",
     "output_type": "stream",
     "text": [
      "1 1 2 3 5 8 13 21 34 55 89 144 233 377 610 987 1597 2584 4181 6765 10946 17711 28657 46368 75025 121393 196418 317811 514229 832040 1346269 2178309\n",
      "\n",
      "CPU times: user 1.59 s, sys: 7.94 ms, total: 1.59 s\n",
      "Wall time: 1.64 s\n"
     ]
    }
   ],
   "source": [
    "%%time\n",
    "\n",
    "# Slow recursive calculation of Fibonacci numbers\n",
    "def fib_slow(n):\n",
    "    if n <= 1:\n",
    "        return 1\n",
    "    else:\n",
    "        return fib_slow(n - 1) + fib_slow(n - 2)\n",
    "\n",
    "print(\" \".join(str(fib_slow(n)) for n in range(32)))\n",
    "print()"
   ]
  },
  {
   "cell_type": "code",
   "execution_count": 15,
   "metadata": {},
   "outputs": [
    {
     "name": "stdout",
     "output_type": "stream",
     "text": [
      "1 1 2 3 5 8 13 21 34 55 89 144 233 377 610 987 1597 2584 4181 6765 10946 17711 28657 46368 75025 121393 196418 317811 514229 832040 1346269 2178309\n",
      "\n",
      "CPU times: user 121 µs, sys: 5 µs, total: 126 µs\n",
      "Wall time: 131 µs\n"
     ]
    }
   ],
   "source": [
    "%%time\n",
    "\n",
    "import functools\n",
    "\n",
    "# Fast recursive calculation of Fibonacci numbers - the only change is the decorator!\n",
    "@functools.lru_cache(maxsize=None)\n",
    "def fib_fast(n):\n",
    "    if n <= 1:\n",
    "        return 1\n",
    "    else:\n",
    "        return fib_fast(n - 1) + fib_fast(n - 2)\n",
    "\n",
    "print(\" \".join(str(fib_fast(n)) for n in range(32)))\n",
    "print()"
   ]
  },
  {
   "cell_type": "markdown",
   "metadata": {},
   "source": [
    "## Multiple context managers in a single `with` statement"
   ]
  },
  {
   "cell_type": "code",
   "execution_count": 16,
   "metadata": {},
   "outputs": [],
   "source": [
    "# Python 2&3\n",
    "with open(\"file1.txt\", \"w\") as f1:\n",
    "    with open(\"file2.txt\", \"w\") as f2:\n",
    "        for i in range(5):\n",
    "            print(i, file=f1, end=' ')\n",
    "            print(2*i, file=f2, end=' ')"
   ]
  },
  {
   "cell_type": "code",
   "execution_count": 17,
   "metadata": {},
   "outputs": [],
   "source": [
    "# Python 3\n",
    "with open(\"file1.txt\", \"w\") as f1, open(\"file2.txt\", \"w\") as f2:\n",
    "    for i in range(5):\n",
    "        print(i, file=f1, end=' ')\n",
    "        print(2*i, file=f2, end=' ')"
   ]
  },
  {
   "cell_type": "code",
   "execution_count": 18,
   "metadata": {},
   "outputs": [
    {
     "name": "stdout",
     "output_type": "stream",
     "text": [
      "0 1 2 3 4 \r\n",
      "0 2 4 6 8 "
     ]
    }
   ],
   "source": [
    "!cat file1.txt; echo; cat file2.txt"
   ]
  },
  {
   "cell_type": "markdown",
   "metadata": {},
   "source": [
    "## New classes in `collections` (backported to Python 2)"
   ]
  },
  {
   "cell_type": "code",
   "execution_count": 19,
   "metadata": {},
   "outputs": [
    {
     "data": {
      "text/plain": [
       "(('A', 0), ('B', 1), ('C', 2), ('D', 3), ('E', 4))"
      ]
     },
     "execution_count": 19,
     "metadata": {},
     "output_type": "execute_result"
    }
   ],
   "source": [
    "# Iteration order is undefined for dict\n",
    "d = {\"ABCDE\"[n]: n for n in range(5)}\n",
    "tuple(d.items())"
   ]
  },
  {
   "cell_type": "code",
   "execution_count": 20,
   "metadata": {},
   "outputs": [
    {
     "data": {
      "text/plain": [
       "(('A', 0), ('B', 1), ('C', 2), ('D', 3), ('E', 4))"
      ]
     },
     "execution_count": 20,
     "metadata": {},
     "output_type": "execute_result"
    }
   ],
   "source": [
    "# Insertion order is preserved for OrderedDict\n",
    "import collections\n",
    "\n",
    "od = collections.OrderedDict((\"ABCDE\"[n], n) for n in range(5))\n",
    "tuple(od.items())"
   ]
  },
  {
   "cell_type": "code",
   "execution_count": 21,
   "metadata": {},
   "outputs": [
    {
     "name": "stdout",
     "output_type": "stream",
     "text": [
      "The letter e occurs 3 times\n",
      "The most common letters are: [(' ', 8), ('o', 4), ('e', 3), ('t', 2), ('h', 2)]\n"
     ]
    }
   ],
   "source": [
    "# Counting objects\n",
    "import collections\n",
    "counts = collections.Counter(\"the quick brown fox jumps over the lazy dog\")\n",
    "print('The letter {} occurs {} times'.format('e', counts['e']))\n",
    "print('The most common letters are:', counts.most_common(5))"
   ]
  },
  {
   "cell_type": "markdown",
   "metadata": {},
   "source": [
    "## Delegating to a subgenerator with `yield from`"
   ]
  },
  {
   "cell_type": "code",
   "execution_count": 22,
   "metadata": {},
   "outputs": [],
   "source": [
    "# Nested list of ints as a simple example for a tree structure\n",
    "l = [[1, 2, [3, 4]], 5, [[6, 7], 8]]"
   ]
  },
  {
   "cell_type": "code",
   "execution_count": 23,
   "metadata": {},
   "outputs": [
    {
     "name": "stdout",
     "output_type": "stream",
     "text": [
      "1 2 3 4 5 6 7 8\n"
     ]
    }
   ],
   "source": [
    "# Python 2&3:\n",
    "def walk2(tree):\n",
    "    if isinstance(tree, int):\n",
    "        yield tree\n",
    "    else:\n",
    "        for subtree in tree:\n",
    "            for item in walk2(subtree):\n",
    "                yield item\n",
    "                \n",
    "print(\" \".join(str(n) for n in walk2(l)))"
   ]
  },
  {
   "cell_type": "code",
   "execution_count": 24,
   "metadata": {},
   "outputs": [
    {
     "name": "stdout",
     "output_type": "stream",
     "text": [
      "1 2 3 4 5 6 7 8\n"
     ]
    }
   ],
   "source": [
    "# Python 3:\n",
    "def walk3(tree):\n",
    "    if isinstance(tree, int):\n",
    "        yield tree\n",
    "    else:\n",
    "        for subtree in tree:\n",
    "            yield from walk3(subtree)\n",
    "                \n",
    "print(\" \".join(str(n) for n in walk3(l)))"
   ]
  },
  {
   "cell_type": "markdown",
   "metadata": {},
   "source": [
    "Note that using `yield from` has many more potential benefits than this!\n",
    "* Transparent handling of values sent to the delegating generator with `send()`\n",
    "* Automatic propagation of exceptions (except for `StopIteration`) to the `throw()` method of the iterator\n",
    "* ..."
   ]
  },
  {
   "cell_type": "markdown",
   "metadata": {},
   "source": [
    "## Support for enumerations"
   ]
  },
  {
   "cell_type": "code",
   "execution_count": 25,
   "metadata": {},
   "outputs": [],
   "source": [
    "import enum\n",
    "\n",
    "class Color(enum.Enum):\n",
    "    RED = 1\n",
    "    GREEN = 2\n",
    "    BLUE = 3"
   ]
  },
  {
   "cell_type": "code",
   "execution_count": 26,
   "metadata": {},
   "outputs": [
    {
     "name": "stdout",
     "output_type": "stream",
     "text": [
      "Color.RED\n",
      "<Color.GREEN: 2>\n"
     ]
    }
   ],
   "source": [
    "# Human-readable string representations, and more info in the repr\n",
    "print(Color.RED)\n",
    "print(repr(Color.GREEN))"
   ]
  },
  {
   "cell_type": "code",
   "execution_count": 27,
   "metadata": {},
   "outputs": [
    {
     "name": "stdout",
     "output_type": "stream",
     "text": [
      "RED\n"
     ]
    }
   ],
   "source": [
    "# Item name is easily accessible\n",
    "print(Color.RED.name)"
   ]
  },
  {
   "cell_type": "code",
   "execution_count": 28,
   "metadata": {},
   "outputs": [
    {
     "name": "stdout",
     "output_type": "stream",
     "text": [
      "Color.RED Color.GREEN Color.BLUE\n"
     ]
    }
   ],
   "source": [
    "# Iteration\n",
    "print(\" \".join(str(c) for c in Color))"
   ]
  },
  {
   "cell_type": "code",
   "execution_count": 29,
   "metadata": {},
   "outputs": [
    {
     "data": {
      "text/plain": [
       "{<Color.RED: 1>: 'Color.RED',\n",
       " <Color.GREEN: 2>: 'Color.GREEN',\n",
       " <Color.BLUE: 3>: 'Color.BLUE'}"
      ]
     },
     "execution_count": 29,
     "metadata": {},
     "output_type": "execute_result"
    }
   ],
   "source": [
    "# Enum members are hashable, i.e., usable as keys in dict and set\n",
    "{color: str(color) for color in Color}"
   ]
  },
  {
   "cell_type": "code",
   "execution_count": 30,
   "metadata": {},
   "outputs": [
    {
     "data": {
      "text/plain": [
       "[<Color.RED: 1>, <Color.GREEN: 2>, <Color.BLUE: 3>]"
      ]
     },
     "execution_count": 30,
     "metadata": {},
     "output_type": "execute_result"
    }
   ],
   "source": [
    "# Converting indices to enum members\n",
    "[Color(i) for i in range(1, 4)]"
   ]
  },
  {
   "cell_type": "code",
   "execution_count": 31,
   "metadata": {},
   "outputs": [
    {
     "data": {
      "text/plain": [
       "(<Animal.ANT: 1>, <Animal.BEE: 2>, <Animal.CAT: 3>, <Animal.DOG: 4>)"
      ]
     },
     "execution_count": 31,
     "metadata": {},
     "output_type": "execute_result"
    }
   ],
   "source": [
    "# Creation of enumerations with the functional API\n",
    "Animal = enum.Enum('Animal', ('ANT', 'BEE', 'CAT', 'DOG'))\n",
    "tuple(Animal)"
   ]
  },
  {
   "cell_type": "markdown",
   "metadata": {},
   "source": [
    "Note that the class `enum` has even more useful features!"
   ]
  },
  {
   "cell_type": "markdown",
   "metadata": {},
   "source": [
    "## Type hints"
   ]
  },
  {
   "cell_type": "code",
   "execution_count": 32,
   "metadata": {},
   "outputs": [
    {
     "name": "stdout",
     "output_type": "stream",
     "text": [
      "Hello friend\n",
      "Hello 5\n"
     ]
    }
   ],
   "source": [
    "def greeting(name: str) -> str:\n",
    "    return 'Hello {}'.format(name)\n",
    "\n",
    "print(greeting(\"friend\"))\n",
    "print(greeting(5)) # No runtime type checking!"
   ]
  },
  {
   "cell_type": "code",
   "execution_count": 33,
   "metadata": {},
   "outputs": [
    {
     "data": {
      "text/plain": [
       "((1, 'A'), (2, 'B'))"
      ]
     },
     "execution_count": 33,
     "metadata": {},
     "output_type": "execute_result"
    }
   ],
   "source": [
    "from typing import List, Dict, Tuple\n",
    "def get_items(d: Dict[int, str]) -> List[Tuple[int, str]]:\n",
    "    return tuple(d.items())\n",
    "\n",
    "get_items({1: 'A', 2: 'B'})"
   ]
  },
  {
   "cell_type": "markdown",
   "metadata": {},
   "source": [
    "## Coroutines with `async` and `await` syntax"
   ]
  },
  {
   "cell_type": "code",
   "execution_count": 34,
   "metadata": {},
   "outputs": [
    {
     "name": "stdout",
     "output_type": "stream",
     "text": [
      "16:11:50.429893: sending 5 requests\n",
      "16:11:50.430152: waiting for 5 seconds before processing request 0\n",
      "16:11:50.430297: waiting for 4 seconds before processing request 1\n",
      "16:11:50.430357: waiting for 3 seconds before processing request 2\n",
      "16:11:50.430396: waiting for 2 seconds before processing request 3\n",
      "16:11:50.430432: waiting for 1 seconds before processing request 4\n",
      "16:11:51.431665: processed request 4\n",
      "16:11:52.431444: processed request 3\n",
      "16:11:53.431840: processed request 2\n",
      "16:11:54.432200: processed request 1\n",
      "16:11:55.431652: processed request 0\n",
      "16:11:55.432144: all responses have been collected\n",
      "16:11:55.432188: result is [0, 1, 2, 3, 4]\n"
     ]
    }
   ],
   "source": [
    "import asyncio\n",
    "import datetime\n",
    "\n",
    "def now():\n",
    "    return datetime.datetime.now().time()\n",
    "\n",
    "async def request(seconds, name):\n",
    "    print(\"{}: waiting for {} seconds before processing request {}\".format(now(), seconds, name))\n",
    "    await asyncio.sleep(seconds) # <-- this could be any time-consuming IO operation\n",
    "    print(\"{}: processed request {}\".format(now(), name))\n",
    "    return name\n",
    "\n",
    "async def multiple_requests(count):\n",
    "    print(\"{}: sending {} requests\".format(now(), count))\n",
    "    result = await asyncio.gather(*(request(count - n, n) for n in range(count)))\n",
    "    print(\"{}: all responses have been collected\".format(now()))\n",
    "    return result\n",
    "\n",
    "async def main():\n",
    "    result = await multiple_requests(5)\n",
    "    print(\"{}: result is {}\".format(now(), result))\n",
    "\n",
    "# Use this in a normal Python script if an event loop is already running:\n",
    "#\n",
    "# loop = asyncio.get_event_loop()\n",
    "# loop.run_until_complete(main())\n",
    "#\n",
    "# Use this to start an event loop and execute main() in it:\n",
    "#\n",
    "# asyncio.run(main())\n",
    "#\n",
    "# In a Jupyter notebook, there is already a running event loop. Therefore, we can simply await the coroutine:\n",
    "\n",
    "await main()"
   ]
  }
 ],
 "metadata": {
  "kernelspec": {
   "display_name": "Python 3",
   "language": "python",
   "name": "python3"
  },
  "language_info": {
   "codemirror_mode": {
    "name": "ipython",
    "version": 3
   },
   "file_extension": ".py",
   "mimetype": "text/x-python",
   "name": "python",
   "nbconvert_exporter": "python",
   "pygments_lexer": "ipython3",
   "version": "3.7.3"
  }
 },
 "nbformat": 4,
 "nbformat_minor": 2
}
