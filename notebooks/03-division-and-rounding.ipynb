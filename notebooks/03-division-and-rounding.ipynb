{
 "cells": [
  {
   "cell_type": "markdown",
   "metadata": {},
   "source": [
    "# 3. Division and rounding"
   ]
  },
  {
   "cell_type": "markdown",
   "metadata": {},
   "source": [
    "##  Integer division\n",
    "In Python 2, applying the division operator `/` to two ints returns an int:"
   ]
  },
  {
   "cell_type": "code",
   "execution_count": 1,
   "metadata": {},
   "outputs": [
    {
     "name": "stdout",
     "output_type": "stream",
     "text": [
      "<type 'int'> 1\n"
     ]
    }
   ],
   "source": [
    "%%python2\n",
    "print type(3 / 2), 3 / 2"
   ]
  },
  {
   "cell_type": "markdown",
   "metadata": {},
   "source": [
    "In Python 3, the result is a float. Integer division can now be done with `//`:"
   ]
  },
  {
   "cell_type": "code",
   "execution_count": 2,
   "metadata": {},
   "outputs": [
    {
     "name": "stdout",
     "output_type": "stream",
     "text": [
      "<class 'float'> 1.5\n",
      "<class 'int'> 1\n"
     ]
    }
   ],
   "source": [
    "print(type(3 / 2), 3 / 2)\n",
    "print(type(3 // 2), 3 // 2)"
   ]
  },
  {
   "cell_type": "markdown",
   "metadata": {},
   "source": [
    "The new behavior can be enabled in Python 2 with\n",
    "\n",
    "    from __future__ import division"
   ]
  },
  {
   "cell_type": "markdown",
   "metadata": {},
   "source": [
    "## Example 3.1: Binary search in a sorted list\n",
    "The new behavior can be a problem if the result of the division is to be used as a `list` or `tuple` index:"
   ]
  },
  {
   "cell_type": "code",
   "execution_count": 3,
   "metadata": {},
   "outputs": [
    {
     "name": "stdout",
     "output_type": "stream",
     "text": [
      "(1, 5, 8, 10, 11, 13)\n"
     ]
    }
   ],
   "source": [
    "%%python2\n",
    "def binary_search(x, items, start=None, end=None):\n",
    "    \"\"\"Returns True if and only if x is found in items[start:end].\n",
    "    If start and end are omitted, the entire sequence is searched for x.\"\"\"\n",
    "    if start is None:\n",
    "        start = 0\n",
    "    if end is None:\n",
    "        end = len(items)\n",
    "    if start >= end:\n",
    "        return False\n",
    "    middle = (start + end) / 2\n",
    "    if items[middle] == x:\n",
    "        return True\n",
    "    elif items[middle] < x:\n",
    "        return binary_search(x, items, middle + 1, end)\n",
    "    else:\n",
    "        return binary_search(x, items, start, middle)\n",
    "    \n",
    "items = (2, 3, 4, 6, 7, 9, 12)\n",
    "\n",
    "# Find numbers between 1 and 13 which are not in 'items'\n",
    "print(tuple(x for x in range(1, 14) if not binary_search(x, items)))"
   ]
  },
  {
   "cell_type": "markdown",
   "metadata": {},
   "source": [
    "# 4. Rounding\n",
    "In Python 2, `round` returns a `float`. In Python 3, the return type is `int`. Moreover, the rounding behavior has changed. Try to run this code in Python 3 and see what happens:"
   ]
  },
  {
   "cell_type": "code",
   "execution_count": 4,
   "metadata": {},
   "outputs": [
    {
     "name": "stdout",
     "output_type": "stream",
     "text": [
      "round(-3.5) == -4.0\n",
      "round(-2.5) == -3.0\n",
      "round(-1.5) == -2.0\n",
      "round(-0.5) == -1.0\n",
      "round(0.5) == 1.0\n",
      "round(1.5) == 2.0\n",
      "round(2.5) == 3.0\n",
      "round(3.5) == 4.0\n"
     ]
    }
   ],
   "source": [
    "%%python2\n",
    "def print_and_round(x):\n",
    "    print(\"round({}) == {}\".format(x, round(x)))\n",
    "\n",
    "for x in (-3.5, -2.5, -1.5, -0.5, 0.5, 1.5, 2.5, 3.5):\n",
    "    print_and_round(x)"
   ]
  }
 ],
 "metadata": {
  "kernelspec": {
   "display_name": "Python 3",
   "language": "python",
   "name": "python3"
  },
  "language_info": {
   "codemirror_mode": {
    "name": "ipython",
    "version": 3
   },
   "file_extension": ".py",
   "mimetype": "text/x-python",
   "name": "python",
   "nbconvert_exporter": "python",
   "pygments_lexer": "ipython3",
   "version": "3.5.2"
  }
 },
 "nbformat": 4,
 "nbformat_minor": 2
}
