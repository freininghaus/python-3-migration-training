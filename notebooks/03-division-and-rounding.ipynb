{
 "cells": [
  {
   "cell_type": "markdown",
   "metadata": {},
   "source": [
    "# 3. Division and rounding"
   ]
  },
  {
   "cell_type": "markdown",
   "metadata": {},
   "source": [
    "In this notebook, we are going to look at some maths-related differences between Python 2 and Python 3."
   ]
  },
  {
   "cell_type": "markdown",
   "metadata": {},
   "source": [
    "## Example 3.1: Binary search in a sorted list\n",
    "The function `binary_search` below takes a value `x` and a sorted sequence `items`, and returns `True` if the `items` contains `x`. Rather than scanning the entire sequence (which can take very long if there are many items), it first looks at the middle element, compares it with `x` and decides in which part of the sequence to continue the search if `x` and the middle element are different.\n",
    "\n",
    "Try to unterstand the code, run it in Python 3 and see what happens! How can the problems be fixed?"
   ]
  },
  {
   "cell_type": "code",
   "execution_count": 1,
   "metadata": {},
   "outputs": [
    {
     "name": "stdout",
     "output_type": "stream",
     "text": [
      "(1, 5, 8, 10, 11, 13)\n"
     ]
    }
   ],
   "source": [
    "%%python2\n",
    "def binary_search(x, items, start=None, end=None):\n",
    "    \"\"\"Returns True if and only if x is found in items[start:end].\n",
    "    If start and end are omitted, the entire sequence is searched for x.\"\"\"\n",
    "    if start is None:\n",
    "        start = 0\n",
    "    if end is None:\n",
    "        end = len(items)\n",
    "    if start >= end:\n",
    "        return False\n",
    "    middle = (start + end) / 2\n",
    "    if items[middle] == x:\n",
    "        return True\n",
    "    elif items[middle] < x:\n",
    "        return binary_search(x, items, middle + 1, end)\n",
    "    else:\n",
    "        return binary_search(x, items, start, middle)\n",
    "    \n",
    "items = (2, 3, 4, 6, 7, 9, 12)\n",
    "\n",
    "# Find numbers between 1 and 13 which are not in 'items'\n",
    "print(tuple(x for x in range(1, 14) if not binary_search(x, items)))"
   ]
  },
  {
   "cell_type": "markdown",
   "metadata": {},
   "source": [
    "Note that the new behavior can be enabled in Python 2 with\n",
    "\n",
    "    from __future__ import division"
   ]
  },
  {
   "cell_type": "markdown",
   "metadata": {},
   "source": [
    "## Rounding\n",
    "In Python 2, `round` returns a `float`. In Python 3, the return type is `int`."
   ]
  },
  {
   "cell_type": "code",
   "execution_count": 2,
   "metadata": {},
   "outputs": [
    {
     "name": "stdout",
     "output_type": "stream",
     "text": [
      "<type 'float'>\n"
     ]
    }
   ],
   "source": [
    "%%python2\n",
    "print(type(round(0.5)))"
   ]
  },
  {
   "cell_type": "code",
   "execution_count": 3,
   "metadata": {},
   "outputs": [
    {
     "name": "stdout",
     "output_type": "stream",
     "text": [
      "<class 'int'>\n"
     ]
    }
   ],
   "source": [
    "# Python 3\n",
    "print(type(round(0.5)))"
   ]
  },
  {
   "cell_type": "markdown",
   "metadata": {},
   "source": [
    "## Example 3.2: Rounding\n",
    "Moreover, the rounding behavior has changed. Try to run this code in Python 3 and see what happens:"
   ]
  },
  {
   "cell_type": "code",
   "execution_count": 4,
   "metadata": {},
   "outputs": [
    {
     "name": "stdout",
     "output_type": "stream",
     "text": [
      "round(-3.5) == -4.0\n",
      "round(-2.5) == -3.0\n",
      "round(-1.5) == -2.0\n",
      "round(-0.5) == -1.0\n",
      "round(0.5) == 1.0\n",
      "round(1.5) == 2.0\n",
      "round(2.5) == 3.0\n",
      "round(3.5) == 4.0\n"
     ]
    }
   ],
   "source": [
    "%%python2\n",
    "def print_and_round(x):\n",
    "    print(\"round({}) == {}\".format(x, round(x)))\n",
    "\n",
    "for x in (-3.5, -2.5, -1.5, -0.5, 0.5, 1.5, 2.5, 3.5):\n",
    "    print_and_round(x)"
   ]
  }
 ],
 "metadata": {
  "kernelspec": {
   "display_name": "Python 3",
   "language": "python",
   "name": "python3"
  },
  "language_info": {
   "codemirror_mode": {
    "name": "ipython",
    "version": 3
   },
   "file_extension": ".py",
   "mimetype": "text/x-python",
   "name": "python",
   "nbconvert_exporter": "python",
   "pygments_lexer": "ipython3",
   "version": "3.5.2"
  }
 },
 "nbformat": 4,
 "nbformat_minor": 2
}
