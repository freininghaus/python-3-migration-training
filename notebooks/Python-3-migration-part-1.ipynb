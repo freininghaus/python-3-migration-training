{
 "cells": [
  {
   "cell_type": "markdown",
   "metadata": {},
   "source": [
    "# Python 2 examples for porting to Python 3\n",
    "This notebook contains some Python 2 examples for things that you can do with the `print` statement.\n",
    "* Try to find the best translation to Python 3\n",
    "* Note that you can easily add cells for with the `+` button in the toolbar and move them with the arrow buttons. You can create one or more cells for the Python 3 solution or for any experiments just below the Python 2 example.\n",
    "* Note that the magic command `%%python2` has been used to switch the example cells to Python 2 mode. If you start a new cell, it should be in Python 3 mode by default.\n",
    "* Feel free to look at the Python 3 documentation. Note that you can quickly look at the docstring of a function by typing, e.g., `?print` in a cell."
   ]
  },
  {
   "cell_type": "markdown",
   "metadata": {},
   "source": [
    "# 1. `print`\n",
    "The most notable change about `print` is that it is a function in Python 3, such that you need parentheses when invoking it:\n",
    "\n",
    "    print \"A\", 1\n",
    "    \n",
    "becomes\n",
    "\n",
    "    print(\"A\", 1)\n",
    "    \n",
    "in Python 3. However, there a a few more changes which we will investigate in the following examples.\n",
    "\n",
    "Note that you can easily get the Python 3 behavior in Python 2 if you want to make future porting efforts easier:\n",
    "\n",
    "    from __future__ import print_function"
   ]
  },
  {
   "cell_type": "markdown",
   "metadata": {},
   "source": [
    "## Example 1.1: `print` without line break"
   ]
  },
  {
   "cell_type": "code",
   "execution_count": 1,
   "metadata": {
    "scrolled": true
   },
   "outputs": [
    {
     "name": "stdout",
     "output_type": "stream",
     "text": [
      "Hello world!\n"
     ]
    }
   ],
   "source": [
    "%%python2\n",
    "print \"Hello\",\n",
    "print \"world!\""
   ]
  },
  {
   "cell_type": "markdown",
   "metadata": {},
   "source": [
    "## Example 1.2: `print` without spaces between individual values\n",
    "By default, `print` separates values that are printed in a single `print` command with spaces:"
   ]
  },
  {
   "cell_type": "code",
   "execution_count": 2,
   "metadata": {},
   "outputs": [
    {
     "name": "stdout",
     "output_type": "stream",
     "text": [
      "1 2 3\n"
     ]
    }
   ],
   "source": [
    "%%python2\n",
    "print 1, 2, 3"
   ]
  },
  {
   "cell_type": "markdown",
   "metadata": {},
   "source": [
    "If you prefer to print the values without a separator, `print` cannot help easily in Python 2:"
   ]
  },
  {
   "cell_type": "code",
   "execution_count": 3,
   "metadata": {},
   "outputs": [
    {
     "name": "stdout",
     "output_type": "stream",
     "text": [
      "01234"
     ]
    }
   ],
   "source": [
    "%%python2\n",
    "import sys\n",
    "for i in range(5):\n",
    "    sys.stdout.write(str(i))"
   ]
  },
  {
   "cell_type": "code",
   "execution_count": 4,
   "metadata": {},
   "outputs": [
    {
     "name": "stdout",
     "output_type": "stream",
     "text": [
      "01234\n"
     ]
    }
   ],
   "source": [
    "%%python2\n",
    "# This is a solution with print, but it builds the entire string in memory - this can be avoided in Python 3 :-) \n",
    "print \"\".join(str(i) for i in range(5))"
   ]
  },
  {
   "cell_type": "markdown",
   "metadata": {},
   "source": [
    "## Example 1.3: `print` to standard error\n",
    "Python 2 allows to redirect the output of a `print` statement to any stream instead of the default `sys.stdout` with `>>`. Note how the things that go to standard error are formatted in the notebook:"
   ]
  },
  {
   "cell_type": "code",
   "execution_count": 5,
   "metadata": {},
   "outputs": [
    {
     "name": "stderr",
     "output_type": "stream",
     "text": [
      "This is an error message\n"
     ]
    }
   ],
   "source": [
    "%%python2\n",
    "import sys\n",
    "print >>sys.stderr, \"This is an error message\""
   ]
  },
  {
   "cell_type": "markdown",
   "metadata": {},
   "source": [
    "## Example 1.4: `print` to a file\n",
    "Python 2 allows to `print` directly to a file:"
   ]
  },
  {
   "cell_type": "code",
   "execution_count": 6,
   "metadata": {},
   "outputs": [],
   "source": [
    "%%python2\n",
    "filename = \"test.txt\"\n",
    "with open(filename, \"w\") as f:\n",
    "    print >>f, \"This is the first line of the file :-)\"\n",
    "    print >>f, \"This is line number\", 2"
   ]
  },
  {
   "cell_type": "code",
   "execution_count": 7,
   "metadata": {},
   "outputs": [
    {
     "name": "stdout",
     "output_type": "stream",
     "text": [
      "This is the first line of the file :-)\r\n",
      "This is line number 2\r\n"
     ]
    }
   ],
   "source": [
    "# Commands that are prepended with ! are treated as shell commands\n",
    "!cat test.txt"
   ]
  },
  {
   "cell_type": "markdown",
   "metadata": {},
   "source": [
    "# 2. Functions which return a `list` in Python 2\n",
    "In many functions which return a `list` in Python 2 have been modified such that they return a generator in Python 3. The cell below contains some examples. Try to copy the cell without the `%%python2` magic to a new Python 3 cell and see what happens."
   ]
  },
  {
   "cell_type": "code",
   "execution_count": 8,
   "metadata": {},
   "outputs": [
    {
     "name": "stdout",
     "output_type": "stream",
     "text": [
      "<type 'list'> [0, 1, 2, 3, 4, 5, 6, 7, 8, 9]\n",
      "<type 'list'> [0, 2, 4]\n",
      "<type 'list'> [0, 2, 4, 6, 8, 10]\n",
      "<type 'list'> [(0, 0), (1, 1), (2, 2), (3, 3), (4, 4), (5, 5)]\n",
      "<type 'list'> ['a', 'b']\n",
      "<type 'list'> [1, 2]\n",
      "<type 'list'> [('a', 1), ('b', 2)]\n"
     ]
    }
   ],
   "source": [
    "%%python2\n",
    "from __future__ import print_function\n",
    "\n",
    "def print_type_and_value(x):\n",
    "    print(type(x), x)\n",
    "\n",
    "print_type_and_value(range(10))\n",
    "\n",
    "l = [0, 1, 2, 3, 4, 5]\n",
    "print_type_and_value(filter(lambda x: x%2 == 0, l))\n",
    "print_type_and_value(map(lambda x: 2*x, l))\n",
    "print_type_and_value(zip(l, l))\n",
    "\n",
    "d = {\"a\": 1, \"b\": 2}\n",
    "print_type_and_value(d.keys())\n",
    "print_type_and_value(d.values())\n",
    "print_type_and_value(d.items())"
   ]
  },
  {
   "cell_type": "markdown",
   "metadata": {},
   "source": [
    "For a few of these functions, Python 2 has replacements which return generators instead of ranges. These functions have been removed in Python 3:"
   ]
  },
  {
   "cell_type": "code",
   "execution_count": 9,
   "metadata": {},
   "outputs": [
    {
     "name": "stdout",
     "output_type": "stream",
     "text": [
      "<type 'xrange'> xrange(10)\n",
      "<type 'dictionary-keyiterator'> <dictionary-keyiterator object at 0x7f3ab533c838>\n",
      "<type 'dictionary-valueiterator'> <dictionary-valueiterator object at 0x7f3ab533c838>\n",
      "<type 'dictionary-itemiterator'> <dictionary-itemiterator object at 0x7f3ab533c838>\n"
     ]
    }
   ],
   "source": [
    "%%python2\n",
    "from __future__ import print_function\n",
    "\n",
    "def print_type_and_value(x):\n",
    "    print(type(x), x)\n",
    "\n",
    "print_type_and_value(xrange(10))\n",
    "\n",
    "d = {\"a\": 1, \"b\": 2}\n",
    "print_type_and_value(d.iterkeys())\n",
    "print_type_and_value(d.itervalues())\n",
    "print_type_and_value(d.iteritems())"
   ]
  },
  {
   "cell_type": "markdown",
   "metadata": {},
   "source": [
    "## Example 2.1: Iterate more than once through a `list`\n",
    "Since the result of `map`, `filter`, etc. is a `list` in Python 2, it can be iterated over multiple times. However, generators can be iterated over only once, such that the following code does not work in Python 3. Try to change the function `min_max` such that it works in both versions:"
   ]
  },
  {
   "cell_type": "code",
   "execution_count": 10,
   "metadata": {},
   "outputs": [
    {
     "name": "stdout",
     "output_type": "stream",
     "text": [
      "(2, 4)\n"
     ]
    }
   ],
   "source": [
    "%%python2\n",
    "def min_max(items):\n",
    "    return min(items), max(items)\n",
    "\n",
    "def is_even(n):\n",
    "    return n % 2 == 0\n",
    "\n",
    "print(min_max(filter(is_even, [1, 2, 3, 4, 5])))"
   ]
  },
  {
   "cell_type": "markdown",
   "metadata": {},
   "source": [
    "## Example 2.2: Modifying a `dict` during iteration"
   ]
  },
  {
   "cell_type": "code",
   "execution_count": 11,
   "metadata": {},
   "outputs": [
    {
     "name": "stdout",
     "output_type": "stream",
     "text": [
      "{1: True, 3: True, 5: True}\n"
     ]
    }
   ],
   "source": [
    "%%python2\n",
    "def delete_false_items(d):\n",
    "    for k in d.keys():\n",
    "        if not d[k]:\n",
    "            del d[k]\n",
    "            \n",
    "d = {1: True, 2: False, 3: True, 4: False, 5: True, 6: False}\n",
    "delete_false_items(d)\n",
    "print(d)"
   ]
  },
  {
   "cell_type": "markdown",
   "metadata": {},
   "source": [
    "# 3. Integer division\n",
    "In Python 2, applying the division operator `/` to two ints returns an int:"
   ]
  },
  {
   "cell_type": "code",
   "execution_count": 12,
   "metadata": {},
   "outputs": [
    {
     "name": "stdout",
     "output_type": "stream",
     "text": [
      "<type 'int'> 1\n"
     ]
    }
   ],
   "source": [
    "%%python2\n",
    "print type(3 / 2), 3 / 2"
   ]
  },
  {
   "cell_type": "markdown",
   "metadata": {},
   "source": [
    "In Python 3, the result is a float. Integer division can now be done with `//`:"
   ]
  },
  {
   "cell_type": "code",
   "execution_count": 13,
   "metadata": {},
   "outputs": [
    {
     "name": "stdout",
     "output_type": "stream",
     "text": [
      "<class 'float'> 1.5\n",
      "<class 'int'> 1\n"
     ]
    }
   ],
   "source": [
    "print(type(3 / 2), 3 / 2)\n",
    "print(type(3 // 2), 3 // 2)"
   ]
  },
  {
   "cell_type": "markdown",
   "metadata": {},
   "source": [
    "The new behavior can be enabled in Python 2 with\n",
    "\n",
    "    from __future__ import division"
   ]
  },
  {
   "cell_type": "markdown",
   "metadata": {},
   "source": [
    "## Example 3.1: Binary search in a sorted list\n",
    "The new behavior can be a problem if the result of the division is to be used as a `list` or `tuple` index:"
   ]
  },
  {
   "cell_type": "code",
   "execution_count": 14,
   "metadata": {},
   "outputs": [
    {
     "name": "stdout",
     "output_type": "stream",
     "text": [
      "(1, 5, 8, 10, 11, 13)\n"
     ]
    }
   ],
   "source": [
    "%%python2\n",
    "def binary_search(x, items, start=None, end=None):\n",
    "    \"\"\"Returns \"\"\"\n",
    "    if start is None:\n",
    "        start = 0\n",
    "    if end is None:\n",
    "        end = len(items)\n",
    "    if start >= end:\n",
    "        return False\n",
    "    middle = (start + end) / 2\n",
    "    if items[middle] == x:\n",
    "        return True\n",
    "    elif items[middle] < x:\n",
    "        return binary_search(x, items, middle + 1, end)\n",
    "    else:\n",
    "        return binary_search(x, items, start, middle)\n",
    "    \n",
    "items = (2, 3, 4, 6, 7, 9, 12)\n",
    "\n",
    "# Find numbers between 1 and 13 which are not in 'items'\n",
    "print(tuple(x for x in range(1, 14) if not binary_search(x, items)))"
   ]
  },
  {
   "cell_type": "markdown",
   "metadata": {},
   "source": [
    "# 4. Rounding\n",
    "In Python 2, `round` returns a `float`. In Python 3, the return type is `int`. Moreover, the rounding behavior has changed:"
   ]
  },
  {
   "cell_type": "markdown",
   "metadata": {},
   "source": [
    "## Rounding away from zero in Python 2"
   ]
  },
  {
   "cell_type": "code",
   "execution_count": 73,
   "metadata": {},
   "outputs": [
    {
     "name": "stdout",
     "output_type": "stream",
     "text": [
      "round(-3.5) == -4.0\n",
      "round(-2.5) == -3.0\n",
      "round(-1.5) == -2.0\n",
      "round(-0.5) == -1.0\n",
      "round(0.5) == 1.0\n",
      "round(1.5) == 2.0\n",
      "round(2.5) == 3.0\n",
      "round(3.5) == 4.0\n"
     ]
    }
   ],
   "source": [
    "%%python2\n",
    "def print_and_round(x):\n",
    "    print(\"round({}) == {}\".format(x, round(x)))\n",
    "\n",
    "for x in (-3.5, -2.5, -1.5, -0.5, 0.5, 1.5, 2.5, 3.5):\n",
    "    print_and_round(x)"
   ]
  },
  {
   "cell_type": "markdown",
   "metadata": {},
   "source": [
    "## Rounding to the nearest even number in Python 3"
   ]
  },
  {
   "cell_type": "code",
   "execution_count": 72,
   "metadata": {},
   "outputs": [
    {
     "name": "stdout",
     "output_type": "stream",
     "text": [
      "round(-3.5) == -4\n",
      "round(-2.5) == -2\n",
      "round(-1.5) == -2\n",
      "round(-0.5) == 0\n",
      "round(0.5) == 0\n",
      "round(1.5) == 2\n",
      "round(2.5) == 2\n",
      "round(3.5) == 4\n"
     ]
    }
   ],
   "source": [
    "def print_and_round(x):\n",
    "    print(\"round({}) == {}\".format(x, round(x)))\n",
    "\n",
    "for x in (-3.5, -2.5, -1.5, -0.5, 0.5, 1.5, 2.5, 3.5):\n",
    "    print_and_round(x)"
   ]
  }
 ],
 "metadata": {
  "kernelspec": {
   "display_name": "Python 3",
   "language": "python",
   "name": "python3"
  },
  "language_info": {
   "codemirror_mode": {
    "name": "ipython",
    "version": 3
   },
   "file_extension": ".py",
   "mimetype": "text/x-python",
   "name": "python",
   "nbconvert_exporter": "python",
   "pygments_lexer": "ipython3",
   "version": "3.5.2"
  }
 },
 "nbformat": 4,
 "nbformat_minor": 2
}
