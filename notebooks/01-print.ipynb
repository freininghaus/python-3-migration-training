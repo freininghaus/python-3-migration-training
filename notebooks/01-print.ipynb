{
 "cells": [
  {
   "cell_type": "markdown",
   "metadata": {},
   "source": [
    "# 1. `print`\n",
    "This notebook contains some Python 2 examples for things that you can do with the `print` statement.\n",
    "* Try to find the best translation to Python 3\n",
    "* Note that you can easily add cells for with the `+` button in the toolbar and move them with the arrow buttons. You can create one or more cells for the Python 3 solution or for any experiments just below the Python 2 example.\n",
    "* Note that the magic command `%%python2` has been used to switch the example cells to Python 2 mode. If you start a new cell, it should be in Python 3 mode by default.\n",
    "* Feel free to look at the Python 3 documentation. Note that you can quickly look at the docstring of a function by typing, e.g., `?print` in a cell."
   ]
  },
  {
   "cell_type": "markdown",
   "metadata": {},
   "source": [
    "## How has `print` changed between Python 2 and 3?\n",
    "The most notable change about `print` is that it is a function in Python 3, such that you need parentheses when invoking it:\n",
    "\n",
    "    print \"A\", 1\n",
    "    \n",
    "becomes\n",
    "\n",
    "    print(\"A\", 1)\n",
    "    \n",
    "in Python 3. However, there a a few more changes which we will investigate in the following examples.\n",
    "\n",
    "Note that you can easily get the Python 3 behavior in Python 2 if you want to make future porting efforts easier:\n",
    "\n",
    "    from __future__ import print_function"
   ]
  },
  {
   "cell_type": "markdown",
   "metadata": {},
   "source": [
    "## Example 1.1: `print` without line break"
   ]
  },
  {
   "cell_type": "code",
   "execution_count": 1,
   "metadata": {
    "scrolled": true
   },
   "outputs": [
    {
     "name": "stdout",
     "output_type": "stream",
     "text": [
      "Hello world!\n"
     ]
    }
   ],
   "source": [
    "%%python2\n",
    "print \"Hello\",\n",
    "print \"world!\""
   ]
  },
  {
   "cell_type": "markdown",
   "metadata": {},
   "source": [
    "## Example 1.2: `print` without spaces between individual values\n",
    "By default, `print` separates values that are printed in a single `print` command with spaces:"
   ]
  },
  {
   "cell_type": "code",
   "execution_count": 2,
   "metadata": {},
   "outputs": [
    {
     "name": "stdout",
     "output_type": "stream",
     "text": [
      "1 2 3\n"
     ]
    }
   ],
   "source": [
    "%%python2\n",
    "print 1, 2, 3"
   ]
  },
  {
   "cell_type": "markdown",
   "metadata": {},
   "source": [
    "If you prefer to print the values without a separator, `print` cannot help easily in Python 2:"
   ]
  },
  {
   "cell_type": "code",
   "execution_count": 3,
   "metadata": {},
   "outputs": [
    {
     "name": "stdout",
     "output_type": "stream",
     "text": [
      "123"
     ]
    }
   ],
   "source": [
    "%%python2\n",
    "import sys\n",
    "for i in (1, 2, 3):\n",
    "    sys.stdout.write(str(i))"
   ]
  },
  {
   "cell_type": "code",
   "execution_count": 4,
   "metadata": {},
   "outputs": [
    {
     "name": "stdout",
     "output_type": "stream",
     "text": [
      "123\n"
     ]
    }
   ],
   "source": [
    "%%python2\n",
    "# This is a solution with print, but it builds the entire string in memory - this can be avoided in Python 3 :-) \n",
    "print \"\".join(str(i) for i in (1, 2, 3))"
   ]
  },
  {
   "cell_type": "markdown",
   "metadata": {},
   "source": [
    "## Example 1.3: `print` to standard error\n",
    "Python 2 allows to redirect the output of a `print` statement to any stream instead of the default `sys.stdout` with `>>`. Note how the things that go to standard error are formatted in the notebook:"
   ]
  },
  {
   "cell_type": "code",
   "execution_count": 5,
   "metadata": {},
   "outputs": [
    {
     "name": "stderr",
     "output_type": "stream",
     "text": [
      "This is an error message\n"
     ]
    }
   ],
   "source": [
    "%%python2\n",
    "import sys\n",
    "print >>sys.stderr, \"This is an error message\""
   ]
  },
  {
   "cell_type": "markdown",
   "metadata": {},
   "source": [
    "## Example 1.4: `print` to a file\n",
    "Python 2 allows to `print` directly to a file:"
   ]
  },
  {
   "cell_type": "code",
   "execution_count": 6,
   "metadata": {},
   "outputs": [],
   "source": [
    "\n",
    "filename = \"test.txt\"\n",
    "with open(filename, \"w\") as f:\n",
    "    print(\"This is the first line of the file :-)\", file=f)\n",
    "    print(\"This is line number\", 2, file=f)"
   ]
  },
  {
   "cell_type": "code",
   "execution_count": 7,
   "metadata": {},
   "outputs": [
    {
     "name": "stdout",
     "output_type": "stream",
     "text": [
      "This is the first line of the file :-)\r\n",
      "This is line number 2\r\n"
     ]
    }
   ],
   "source": [
    "# Commands that are prepended with ! are treated as shell commands\n",
    "!cat test.txt"
   ]
  }
 ],
 "metadata": {
  "kernelspec": {
   "display_name": "Python 3",
   "language": "python",
   "name": "python3"
  },
  "language_info": {
   "codemirror_mode": {
    "name": "ipython",
    "version": 3
   },
   "file_extension": ".py",
   "mimetype": "text/x-python",
   "name": "python",
   "nbconvert_exporter": "python",
   "pygments_lexer": "ipython3",
   "version": "3.5.2"
  }
 },
 "nbformat": 4,
 "nbformat_minor": 2
}
