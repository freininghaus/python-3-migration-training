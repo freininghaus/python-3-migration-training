{
 "cells": [
  {
   "cell_type": "markdown",
   "metadata": {},
   "source": [
    "# `aiohttp` -- Async HTTP client/server for asyncio and Python"
   ]
  },
  {
   "cell_type": "code",
   "execution_count": 1,
   "metadata": {},
   "outputs": [],
   "source": [
    "import aiohttp"
   ]
  },
  {
   "cell_type": "markdown",
   "metadata": {},
   "source": [
    "## HTTP client example\n",
    "The examples use http://httpbin.org/, a simple service for testing requests."
   ]
  },
  {
   "cell_type": "markdown",
   "metadata": {},
   "source": [
    "### GET request with parameters, use response in text form"
   ]
  },
  {
   "cell_type": "code",
   "execution_count": 2,
   "metadata": {},
   "outputs": [
    {
     "name": "stdout",
     "output_type": "stream",
     "text": [
      "Response status: 200\n",
      "{\n",
      "  \"args\": {\n",
      "    \"param1\": \"value1\"\n",
      "  }, \n",
      "  \"headers\": {\n",
      "    \"Accept\": \"*/*\", \n",
      "    \"Accept-Encoding\": \"gzip, deflate\", \n",
      "    \"Host\": \"httpbin.org\", \n",
      "    \"User-Agent\": \"Python/3.7 aiohttp/3.5.4\"\n",
      "  }, \n",
      "  \"origin\": \"80.87.168.98, 80.87.168.98\", \n",
      "  \"url\": \"https://httpbin.org/get?param1=value1\"\n",
      "}\n",
      "\n"
     ]
    }
   ],
   "source": [
    "async with aiohttp.ClientSession() as session:\n",
    "    async with session.get(\"http://httpbin.org/get\", params={\"param1\": \"value1\"}) as response:\n",
    "        print(f\"Response status: {response.status}\")\n",
    "        print(await response.text())"
   ]
  },
  {
   "cell_type": "markdown",
   "metadata": {},
   "source": [
    "### GET request, parse JSON response as Python object"
   ]
  },
  {
   "cell_type": "code",
   "execution_count": 3,
   "metadata": {},
   "outputs": [
    {
     "name": "stdout",
     "output_type": "stream",
     "text": [
      "Python/3.7 aiohttp/3.5.4\n"
     ]
    }
   ],
   "source": [
    "async with aiohttp.ClientSession() as session:\n",
    "    async with session.get(\"http://httpbin.org/get\", params={\"param1\": \"value1\"}) as response:\n",
    "        data = await response.json()\n",
    "\n",
    "print(data[\"headers\"][\"User-Agent\"])"
   ]
  },
  {
   "cell_type": "markdown",
   "metadata": {},
   "source": [
    "### POST request"
   ]
  },
  {
   "cell_type": "code",
   "execution_count": 4,
   "metadata": {},
   "outputs": [
    {
     "name": "stdout",
     "output_type": "stream",
     "text": [
      "Content of the 'data' field in the response: 'Input data for the HTTP POST request'\n"
     ]
    }
   ],
   "source": [
    "async with aiohttp.ClientSession() as session:\n",
    "    async with session.post(\"http://httpbin.org/post\", data=b\"Input data for the HTTP POST request\") as response:\n",
    "        data = await response.json()\n",
    "\n",
    "print(f\"Content of the 'data' field in the response: '{data['data']}'\")"
   ]
  },
  {
   "cell_type": "markdown",
   "metadata": {},
   "source": [
    "## HTTP server example"
   ]
  },
  {
   "cell_type": "code",
   "execution_count": 5,
   "metadata": {},
   "outputs": [],
   "source": [
    "from aiohttp import web\n",
    "app = web.Application()"
   ]
  },
  {
   "cell_type": "markdown",
   "metadata": {},
   "source": [
    "### Define a simple request hander that ignores input and returns text"
   ]
  },
  {
   "cell_type": "code",
   "execution_count": 6,
   "metadata": {},
   "outputs": [],
   "source": [
    "async def hello(request):\n",
    "    return web.Response(text=\"Hello\")"
   ]
  },
  {
   "cell_type": "markdown",
   "metadata": {},
   "source": [
    "### Add the handler to the routes of the server application"
   ]
  },
  {
   "cell_type": "code",
   "execution_count": 7,
   "metadata": {},
   "outputs": [],
   "source": [
    "app.add_routes([web.get(\"/hello\", hello)])"
   ]
  },
  {
   "cell_type": "markdown",
   "metadata": {},
   "source": [
    "### GET request with parameters in the URL path and optional query parameters"
   ]
  },
  {
   "cell_type": "code",
   "execution_count": 8,
   "metadata": {},
   "outputs": [],
   "source": [
    "async def hello2(request):\n",
    "    first_name = request.match_info[\"first\"]\n",
    "    last_name = request.match_info[\"last\"]\n",
    "    query = request.rel_url.query\n",
    "    \n",
    "    params = {key: value for key, value in query.items()}\n",
    "\n",
    "    return web.json_response(\n",
    "        {\n",
    "            \"message\": f\"Hello {first_name} {last_name}!\",\n",
    "            \"parameters\": params\n",
    "        })\n",
    "\n",
    "app.add_routes([web.get(\"/hello/{first}/{last}\", hello2)])"
   ]
  },
  {
   "cell_type": "markdown",
   "metadata": {},
   "source": [
    "### Start the HTTP server\n",
    "Note that this is much easier usually:\n",
    "\n",
    "    web.run_app(app, port=port)\n",
    "    \n",
    "starts the server on the given port and starts an event loop for handling requests. Here we have to do it a bit differently because Jupyter is already running an event loop:"
   ]
  },
  {
   "cell_type": "code",
   "execution_count": 9,
   "metadata": {},
   "outputs": [],
   "source": [
    "runner = aiohttp.web.AppRunner(app)\n",
    "await runner.setup()\n",
    "site = aiohttp.web.TCPSite(runner, \"localhost\", 8090)    \n",
    "await site.start()"
   ]
  },
  {
   "cell_type": "markdown",
   "metadata": {},
   "source": [
    "Now the server is reachable via http://localhost:8090/hello (provided the port was not taken yet and is reachable from the outside). You can try it in the browser!\n",
    "\n",
    "We can also access it with HTTP requests directly from this notebook:"
   ]
  },
  {
   "cell_type": "code",
   "execution_count": 10,
   "metadata": {},
   "outputs": [
    {
     "name": "stdout",
     "output_type": "stream",
     "text": [
      "{'message': 'Hello John Smith!', 'parameters': {'extra-param': 'param-value'}}\n"
     ]
    }
   ],
   "source": [
    "async with aiohttp.ClientSession() as session:\n",
    "    async with session.get(\"http://localhost:8090/hello/John/Smith\", params={\"extra-param\": \"param-value\"}) as response:\n",
    "        print(await response.json())"
   ]
  }
 ],
 "metadata": {
  "kernelspec": {
   "display_name": "Python 3",
   "language": "python",
   "name": "python3"
  },
  "language_info": {
   "codemirror_mode": {
    "name": "ipython",
    "version": 3
   },
   "file_extension": ".py",
   "mimetype": "text/x-python",
   "name": "python",
   "nbconvert_exporter": "python",
   "pygments_lexer": "ipython3",
   "version": "3.7.3"
  }
 },
 "nbformat": 4,
 "nbformat_minor": 2
}
