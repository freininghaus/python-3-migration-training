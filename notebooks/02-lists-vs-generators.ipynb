{
 "cells": [
  {
   "cell_type": "markdown",
   "metadata": {},
   "source": [
    "# 2. Functions which return a `list` in Python 2\n",
    "In many functions which return a `list` in Python 2 have been modified such that they return a generator in Python 3. The cell below contains some examples. Try to copy the cell without the `%%python2` magic to a new Python 3 cell and see what happens."
   ]
  },
  {
   "cell_type": "code",
   "execution_count": 1,
   "metadata": {},
   "outputs": [
    {
     "name": "stdout",
     "output_type": "stream",
     "text": [
      "<type 'list'> [0, 1, 2, 3, 4, 5, 6, 7, 8, 9]\n",
      "<type 'list'> [0, 2, 4]\n",
      "<type 'list'> [0, 2, 4, 6, 8, 10]\n",
      "<type 'list'> [(0, 0), (1, 1), (2, 2), (3, 3), (4, 4), (5, 5)]\n",
      "<type 'list'> ['a', 'b']\n",
      "<type 'list'> [1, 2]\n",
      "<type 'list'> [('a', 1), ('b', 2)]\n"
     ]
    }
   ],
   "source": [
    "%%python2\n",
    "from __future__ import print_function\n",
    "\n",
    "def print_type_and_value(x):\n",
    "    print(type(x), x)\n",
    "\n",
    "print_type_and_value(range(10))\n",
    "\n",
    "l = [0, 1, 2, 3, 4, 5]\n",
    "print_type_and_value(filter(lambda x: x%2 == 0, l))\n",
    "print_type_and_value(map(lambda x: 2*x, l))\n",
    "print_type_and_value(zip(l, l))\n",
    "\n",
    "d = {\"a\": 1, \"b\": 2}\n",
    "print_type_and_value(d.keys())\n",
    "print_type_and_value(d.values())\n",
    "print_type_and_value(d.items())"
   ]
  },
  {
   "cell_type": "markdown",
   "metadata": {},
   "source": [
    "For a few of these functions, Python 2 has replacements which return generators instead of ranges. These functions have been removed in Python 3:"
   ]
  },
  {
   "cell_type": "code",
   "execution_count": 2,
   "metadata": {},
   "outputs": [
    {
     "name": "stdout",
     "output_type": "stream",
     "text": [
      "<type 'xrange'> xrange(10)\n",
      "<type 'dictionary-keyiterator'> <dictionary-keyiterator object at 0x7f4f6ef4d890>\n",
      "<type 'dictionary-valueiterator'> <dictionary-valueiterator object at 0x7f4f6ef4d890>\n",
      "<type 'dictionary-itemiterator'> <dictionary-itemiterator object at 0x7f4f6ef4d890>\n"
     ]
    }
   ],
   "source": [
    "%%python2\n",
    "from __future__ import print_function\n",
    "\n",
    "def print_type_and_value(x):\n",
    "    print(type(x), x)\n",
    "\n",
    "print_type_and_value(xrange(10))\n",
    "\n",
    "d = {\"a\": 1, \"b\": 2}\n",
    "print_type_and_value(d.iterkeys())\n",
    "print_type_and_value(d.itervalues())\n",
    "print_type_and_value(d.iteritems())"
   ]
  },
  {
   "cell_type": "markdown",
   "metadata": {},
   "source": [
    "## Example 2.1: Iterate more than once through a `list`\n",
    "Since the result of `map`, `filter`, etc. is a `list` in Python 2, it can be iterated over multiple times. However, generators can be iterated over only once, such that the following code does not work in Python 3. Try to change the function `min_max` such that it works in both versions:"
   ]
  },
  {
   "cell_type": "code",
   "execution_count": 3,
   "metadata": {},
   "outputs": [
    {
     "name": "stdout",
     "output_type": "stream",
     "text": [
      "(2, 4)\n"
     ]
    }
   ],
   "source": [
    "%%python2\n",
    "def min_max(items):\n",
    "    return min(items), max(items)\n",
    "\n",
    "def is_even(n):\n",
    "    return n % 2 == 0\n",
    "\n",
    "print(min_max(filter(is_even, [1, 2, 3, 4, 5])))"
   ]
  },
  {
   "cell_type": "markdown",
   "metadata": {},
   "source": [
    "## Example 2.2: Modifying a `dict` during iteration\n",
    "In Python 2, the `keys()` method of a `dict` returns a `list`. This list remains unchanged if the `dict` is modified in any way. Therefore, the `dict` can be safely modified in a loop over the `list` of keys.\n",
    "\n",
    "Try to run the example code in Python 3, see what happens, and modify it such that it works as expected."
   ]
  },
  {
   "cell_type": "code",
   "execution_count": 4,
   "metadata": {},
   "outputs": [
    {
     "name": "stdout",
     "output_type": "stream",
     "text": [
      "{1: True, 3: True, 5: True}\n"
     ]
    }
   ],
   "source": [
    "%%python2\n",
    "def delete_false_items(d):\n",
    "    for k in d.keys():\n",
    "        if not d[k]:\n",
    "            del d[k]\n",
    "            \n",
    "d = {1: True, 2: False, 3: True, 4: False, 5: True, 6: False}\n",
    "delete_false_items(d)\n",
    "print(d)"
   ]
  }
 ],
 "metadata": {
  "kernelspec": {
   "display_name": "Python 3",
   "language": "python",
   "name": "python3"
  },
  "language_info": {
   "codemirror_mode": {
    "name": "ipython",
    "version": 3
   },
   "file_extension": ".py",
   "mimetype": "text/x-python",
   "name": "python",
   "nbconvert_exporter": "python",
   "pygments_lexer": "ipython3",
   "version": "3.5.2"
  }
 },
 "nbformat": 4,
 "nbformat_minor": 2
}
